{
 "cells": [
  {
   "cell_type": "markdown",
   "id": "0102ad44",
   "metadata": {},
   "source": [
    "# Regression Model Comparison Pipeline\n",
    "\n",
    "This notebook presents a complete and well-documented machine learning pipeline for comparing regression models using the California Housing dataset.\n"
   ]
  }
 ],
 "metadata": {
  "kernelspec": {
   "display_name": "venv",
   "language": "python",
   "name": "python3"
  },
  "language_info": {
   "name": "python",
   "version": "3.13.3"
  }
 },
 "nbformat": 4,
 "nbformat_minor": 5
}
